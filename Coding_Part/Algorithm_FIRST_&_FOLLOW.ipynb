{
  "nbformat": 4,
  "nbformat_minor": 0,
  "metadata": {
    "colab": {
      "provenance": []
    },
    "kernelspec": {
      "name": "python3",
      "display_name": "Python 3"
    },
    "language_info": {
      "name": "python"
    }
  },
  "cells": [
    {
      "cell_type": "markdown",
      "source": [
        "# Code Written by:\n",
        "**Shweta Tiwari**\n",
        "*20 Oct 2023*\n"
      ],
      "metadata": {
        "id": "eA92MvmyzXJ7"
      }
    },
    {
      "cell_type": "markdown",
      "source": [
        "## Algorithm: FIRST FOLLOW"
      ],
      "metadata": {
        "id": "TWnp5mczyn87"
      }
    },
    {
      "cell_type": "code",
      "source": [
        "import time"
      ],
      "metadata": {
        "id": "JYlJ_zJM0Uyx"
      },
      "execution_count": 1,
      "outputs": []
    },
    {
      "cell_type": "markdown",
      "source": [
        "# Algorithm"
      ],
      "metadata": {
        "id": "XQpG0AD8yuog"
      }
    },
    {
      "cell_type": "code",
      "execution_count": 2,
      "metadata": {
        "colab": {
          "base_uri": "https://localhost:8080/"
        },
        "id": "xXJcHFyax00q",
        "outputId": "4bd7864c-0ef2-405f-9c9f-5c6ebb64c7b4"
      },
      "outputs": [
        {
          "output_type": "stream",
          "name": "stdout",
          "text": [
            "CPU times: user 5 µs, sys: 0 ns, total: 5 µs\n",
            "Wall time: 8.58 µs\n"
          ]
        }
      ],
      "source": [
        "%%time\n",
        "def first_and_follow(grammar):\n",
        "    # first & follow sets, epsilon-productions\n",
        "    first = {i: set() for i in grammar.nonterminals}\n",
        "    first.update((i, {i}) for i in grammar.terminals)\n",
        "    follow = {i: set() for i in grammar.nonterminals}\n",
        "    epsilon = set()\n",
        "\n",
        "    while True:\n",
        "        updated = False\n",
        "\n",
        "        for nt, expression in grammar.rules:\n",
        "            # FIRST set w.r.t epsilon-productions\n",
        "            for symbol in expression:\n",
        "                updated |= union(first[nt], first[symbol])\n",
        "                if symbol not in epsilon:\n",
        "                    break\n",
        "            else:\n",
        "                updated |= union(epsilon, {nt})\n",
        "\n",
        "            # FOLLOW set w.r.t epsilon-productions\n",
        "            aux = follow[nt]\n",
        "            for symbol in reversed(expression):\n",
        "                if symbol in follow:\n",
        "                    updated |= union(follow[symbol], aux)\n",
        "                if symbol in epsilon:\n",
        "                    aux = aux.union(first[symbol])\n",
        "                else:\n",
        "                    aux = first[symbol]\n",
        "\n",
        "        if not updated:\n",
        "            return first, follow, epsilon\n"
      ]
    },
    {
      "cell_type": "code",
      "source": [
        "%%time\n",
        "def union(first, begins):\n",
        "    n = len(first)\n",
        "    first |= begins\n",
        "    return len(first) != n"
      ],
      "metadata": {
        "colab": {
          "base_uri": "https://localhost:8080/"
        },
        "id": "T7cuiukQyaut",
        "outputId": "8730c3e5-f1a1-4fcf-ba90-5930e8dc13f9"
      },
      "execution_count": 3,
      "outputs": [
        {
          "output_type": "stream",
          "name": "stdout",
          "text": [
            "CPU times: user 5 µs, sys: 1 µs, total: 6 µs\n",
            "Wall time: 9.06 µs\n"
          ]
        }
      ]
    },
    {
      "cell_type": "code",
      "source": [
        "%%time\n",
        "class Grammar:\n",
        "\n",
        "    def __init__(self, *rules):\n",
        "        self.rules = tuple(self._parse(rule) for rule in rules)\n",
        "\n",
        "    def _parse(self, rule):\n",
        "        return tuple(rule.replace(' ', '').split('::='))\n",
        "\n",
        "    def __getitem__(self, nonterminal):\n",
        "        yield from [rule for rule in self.rules if rule[0] == nonterminal]\n",
        "\n",
        "    @staticmethod\n",
        "    def is_nonterminal(symbol):\n",
        "        return symbol.isalpha() and symbol.isupper()\n",
        "\n",
        "    @property\n",
        "    def nonterminals(self):\n",
        "        return set(nt for nt, _ in self.rules)\n",
        "\n",
        "    @property\n",
        "    def terminals(self):\n",
        "        return set(\n",
        "            symbol\n",
        "            for _, expression in self.rules\n",
        "            for symbol in expression\n",
        "            if not self.is_nonterminal(symbol)\n",
        "        )"
      ],
      "metadata": {
        "colab": {
          "base_uri": "https://localhost:8080/"
        },
        "id": "BGp4OHnKydX7",
        "outputId": "4b4f51c0-de9d-4018-9b56-3c6d03f0ef7d"
      },
      "execution_count": 4,
      "outputs": [
        {
          "output_type": "stream",
          "name": "stdout",
          "text": [
            "CPU times: user 43 µs, sys: 0 ns, total: 43 µs\n",
            "Wall time: 47 µs\n"
          ]
        }
      ]
    },
    {
      "cell_type": "markdown",
      "source": [
        "## left-recursive grammar w/ epsilon-production"
      ],
      "metadata": {
        "id": "W0y2InToyfim"
      }
    },
    {
      "cell_type": "code",
      "source": [
        "%%time\n",
        "first, follow, epsilon = first_and_follow(Grammar(\n",
        "    '^ ::= A $',\n",
        "    'A ::= ABBC',\n",
        "    'A ::= B',\n",
        "    'A ::= 1',\n",
        "    'B ::= C',\n",
        "    'B ::= 2',\n",
        "    'C ::= 3',\n",
        "    'C ::= ',\n",
        "))"
      ],
      "metadata": {
        "colab": {
          "base_uri": "https://localhost:8080/"
        },
        "id": "lTVrn8r4yjSc",
        "outputId": "1e550c0a-31fc-4b04-bd9f-8aa91e9370b5"
      },
      "execution_count": 5,
      "outputs": [
        {
          "output_type": "stream",
          "name": "stdout",
          "text": [
            "CPU times: user 140 µs, sys: 31 µs, total: 171 µs\n",
            "Wall time: 175 µs\n"
          ]
        }
      ]
    },
    {
      "cell_type": "code",
      "source": [
        "%%time\n",
        "first"
      ],
      "metadata": {
        "colab": {
          "base_uri": "https://localhost:8080/"
        },
        "id": "1a0qxUpdyykS",
        "outputId": "5f5eb285-76b2-4443-daa5-70884df69c24"
      },
      "execution_count": 6,
      "outputs": [
        {
          "output_type": "stream",
          "name": "stdout",
          "text": [
            "CPU times: user 4 µs, sys: 0 ns, total: 4 µs\n",
            "Wall time: 7.39 µs\n"
          ]
        },
        {
          "output_type": "execute_result",
          "data": {
            "text/plain": [
              "{'C': {'3'},\n",
              " '^': {'$', '1', '2', '3'},\n",
              " 'A': {'1', '2', '3'},\n",
              " 'B': {'2', '3'},\n",
              " '3': {'3'},\n",
              " '$': {'$'},\n",
              " '2': {'2'},\n",
              " '1': {'1'}}"
            ]
          },
          "metadata": {},
          "execution_count": 6
        }
      ]
    },
    {
      "cell_type": "code",
      "source": [
        "%%time\n",
        "epsilon"
      ],
      "metadata": {
        "colab": {
          "base_uri": "https://localhost:8080/"
        },
        "id": "eHi3-gfiy0Wg",
        "outputId": "d4ba7327-0f99-4d71-e13d-8a4a08b867a5"
      },
      "execution_count": 7,
      "outputs": [
        {
          "output_type": "stream",
          "name": "stdout",
          "text": [
            "CPU times: user 3 µs, sys: 0 ns, total: 3 µs\n",
            "Wall time: 4.77 µs\n"
          ]
        },
        {
          "output_type": "execute_result",
          "data": {
            "text/plain": [
              "{'A', 'B', 'C'}"
            ]
          },
          "metadata": {},
          "execution_count": 7
        }
      ]
    },
    {
      "cell_type": "markdown",
      "source": [
        "## arithmetic expressions"
      ],
      "metadata": {
        "id": "sqvIHB8Ny2qC"
      }
    },
    {
      "cell_type": "code",
      "source": [
        "%%time\n",
        "first, follow, epsilon = first_and_follow(Grammar(\n",
        "    '^ ::= E $',\n",
        "    'E ::= E + T',\n",
        "    'E ::= T',\n",
        "    'T ::= T * F',\n",
        "    'T ::= F',\n",
        "    'F ::= ( E )',\n",
        "    'F ::= x',\n",
        "))"
      ],
      "metadata": {
        "colab": {
          "base_uri": "https://localhost:8080/"
        },
        "id": "eSIblR0Ay0bq",
        "outputId": "d60b1b94-7fb9-427c-b70b-f1534a648990"
      },
      "execution_count": 8,
      "outputs": [
        {
          "output_type": "stream",
          "name": "stdout",
          "text": [
            "CPU times: user 72 µs, sys: 15 µs, total: 87 µs\n",
            "Wall time: 89.9 µs\n"
          ]
        }
      ]
    },
    {
      "cell_type": "code",
      "source": [
        "%%time\n",
        "first"
      ],
      "metadata": {
        "colab": {
          "base_uri": "https://localhost:8080/"
        },
        "id": "E1lkcuDGy0eg",
        "outputId": "70b4d9e9-d095-4eb3-8737-aca5d6eb1235"
      },
      "execution_count": 9,
      "outputs": [
        {
          "output_type": "stream",
          "name": "stdout",
          "text": [
            "CPU times: user 4 µs, sys: 0 ns, total: 4 µs\n",
            "Wall time: 7.39 µs\n"
          ]
        },
        {
          "output_type": "execute_result",
          "data": {
            "text/plain": [
              "{'^': {'(', 'x'},\n",
              " 'T': {'(', 'x'},\n",
              " 'E': {'(', 'x'},\n",
              " 'F': {'(', 'x'},\n",
              " '*': {'*'},\n",
              " '+': {'+'},\n",
              " '(': {'('},\n",
              " '$': {'$'},\n",
              " ')': {')'},\n",
              " 'x': {'x'}}"
            ]
          },
          "metadata": {},
          "execution_count": 9
        }
      ]
    },
    {
      "cell_type": "code",
      "source": [
        "%%time\n",
        "follow"
      ],
      "metadata": {
        "colab": {
          "base_uri": "https://localhost:8080/"
        },
        "id": "pPa0vv-Fy0jb",
        "outputId": "6e70b1ad-9c4f-423a-e185-2de88d8371fb"
      },
      "execution_count": 10,
      "outputs": [
        {
          "output_type": "stream",
          "name": "stdout",
          "text": [
            "CPU times: user 3 µs, sys: 0 ns, total: 3 µs\n",
            "Wall time: 5.48 µs\n"
          ]
        },
        {
          "output_type": "execute_result",
          "data": {
            "text/plain": [
              "{'^': set(),\n",
              " 'T': {'$', ')', '*', '+'},\n",
              " 'E': {'$', ')', '+'},\n",
              " 'F': {'$', ')', '*', '+'}}"
            ]
          },
          "metadata": {},
          "execution_count": 10
        }
      ]
    },
    {
      "cell_type": "code",
      "source": [
        "%%time\n",
        "epsilon"
      ],
      "metadata": {
        "colab": {
          "base_uri": "https://localhost:8080/"
        },
        "id": "qUWL5fvcy0nI",
        "outputId": "3649cdda-6855-431d-8fa7-75bfd7b9bb6a"
      },
      "execution_count": 11,
      "outputs": [
        {
          "output_type": "stream",
          "name": "stdout",
          "text": [
            "CPU times: user 2 µs, sys: 0 ns, total: 2 µs\n",
            "Wall time: 5.25 µs\n"
          ]
        },
        {
          "output_type": "execute_result",
          "data": {
            "text/plain": [
              "set()"
            ]
          },
          "metadata": {},
          "execution_count": 11
        }
      ]
    },
    {
      "cell_type": "markdown",
      "source": [
        "# The End"
      ],
      "metadata": {
        "id": "7PoO4thU1k6u"
      }
    }
  ]
}